{
 "cells": [
  {
   "cell_type": "code",
   "execution_count": null,
   "metadata": {
    "collapsed": true
   },
   "outputs": [],
   "source": [
    "# coding=utf-8\n",
    "import numpy as np\n",
    "import matplotlib.pyplot as plt\n",
    "import pandas as pd\n",
    "import warnings; warnings.simplefilter('ignore')\n",
    "%matplotlib inline\n",
    "\n",
    "'''\n",
    "huml - длина плечевой кости\n",
    "humw - диаметр плечевой кости\n",
    "ulnal - длина локтевой кости\n",
    "ulnaw - диаметр локтевой кости\n",
    "feml - длина бедренной кости\n",
    "femw - диаметр бедренной кости\n",
    "tibl - длина кости между бедром и цевкой в ноге\n",
    "tibw - диаметр кости между бедром и цевкой в ноге\n",
    "tarl - длина цевки;одна из костей ноги птиц, расположенная между голенью и пальцами\n",
    "tarw - диаметр цевки\n",
    "\n",
    "Перед нами стоит задача классификации, необходимо исследовать взаимосвязь между\n",
    "размерами костей и экологических групп птиц и распознать экологическую группу по форме костей.\n",
    "\n",
    "Экологические группы:\n",
    "\n",
    "-Swimming birds (Водоплавающие птицы)\n",
    "\n",
    "-Wading birds (Болотные птицы)\n",
    "\n",
    "-Terrestrial birds (Наземные птицы)\n",
    "\n",
    "-Raptors (Хищники)\n",
    "\n",
    "-Scansorial birds (Птицы приспособленные к лазанью)\n",
    "\n",
    "-Singing birds (Поющие птицы)\n",
    "\n",
    "SW: Swimming Birds\n",
    "W: Wading Birds\n",
    "T: Terrestrial Birds\n",
    "R: Raptors\n",
    "P: Scansorial Birds\n",
    "SO: Singing Birds\n",
    "\n",
    "'''\n",
    "pass"
   ]
  },
  {
   "cell_type": "code",
   "execution_count": null,
   "metadata": {},
   "outputs": [],
   "source": [
    "data = pd.read_csv('bird.csv')\n",
    "data.head()"
   ]
  },
  {
   "cell_type": "code",
   "execution_count": null,
   "metadata": {},
   "outputs": [],
   "source": [
    "'Возвращает размерность файла'\n",
    "pass\n",
    "data.shape"
   ]
  },
  {
   "cell_type": "code",
   "execution_count": null,
   "metadata": {},
   "outputs": [],
   "source": [
    "'''\n",
    "Описательная статистика: мат. ожидание, дисперсия, max, min\n",
    "Исключает значение NaN\n",
    "'''\n",
    "pass\n",
    "data.describe()"
   ]
  },
  {
   "cell_type": "code",
   "execution_count": null,
   "metadata": {},
   "outputs": [],
   "source": [
    "'Диаграмма рассеяния - коррелированность данных'\n",
    "pd.plotting.scatter_matrix(data)"
   ]
  },
  {
   "cell_type": "code",
   "execution_count": null,
   "metadata": {},
   "outputs": [],
   "source": [
    "'Колонки с не численными признаками'\n",
    "categorical_columns = [c for c in data.columns if data[c].dtype.name == 'object']\n",
    "print (categorical_columns)"
   ]
  },
  {
   "cell_type": "code",
   "execution_count": null,
   "metadata": {},
   "outputs": [],
   "source": [
    "'Названия столбцов с численными значениями'\n",
    "numerical_columns = [c for c in data.columns if data[c].dtype.name != 'object']\n",
    "print(numerical_columns)"
   ]
  },
  {
   "cell_type": "code",
   "execution_count": null,
   "metadata": {},
   "outputs": [],
   "source": [
    "'Средние значения'\n",
    "data.median(axis=0)"
   ]
  },
  {
   "cell_type": "code",
   "execution_count": null,
   "metadata": {},
   "outputs": [],
   "source": [
    "'Количество значений в столбце, содержащим численные данные'\n",
    "data[numerical_columns].count(axis = 0)"
   ]
  },
  {
   "cell_type": "code",
   "execution_count": null,
   "metadata": {},
   "outputs": [],
   "source": [
    "'Количество значений в столбце, содержащим категориальные данные'\n",
    "data[categorical_columns].count(axis = 0)"
   ]
  },
  {
   "cell_type": "code",
   "execution_count": null,
   "metadata": {
    "collapsed": true
   },
   "outputs": [],
   "source": [
    "'''\n",
    "Убираем пропущенные значения\n",
    "'''\n",
    "data = data.fillna(data.median(axis = 0), axis = 0)"
   ]
  },
  {
   "cell_type": "code",
   "execution_count": null,
   "metadata": {},
   "outputs": [],
   "source": [
    "data[numerical_columns].count(axis = 0)"
   ]
  },
  {
   "cell_type": "code",
   "execution_count": null,
   "metadata": {},
   "outputs": [],
   "source": [
    "data[categorical_columns].count(axis = 0)"
   ]
  },
  {
   "cell_type": "code",
   "execution_count": null,
   "metadata": {},
   "outputs": [],
   "source": [
    "'Не бинарные столбцы в нашем случае равны категориальным'\n",
    "data_nonbinary = pd.get_dummies(data[categorical_columns])\n",
    "print(data_nonbinary.columns)"
   ]
  },
  {
   "cell_type": "code",
   "execution_count": null,
   "metadata": {},
   "outputs": [],
   "source": [
    "'Нормализуем наши данные, если они масштабированы'\n",
    "\n",
    "data_numerical = data[numerical_columns]\n",
    "data_numerical.describe()"
   ]
  },
  {
   "cell_type": "code",
   "execution_count": null,
   "metadata": {
    "collapsed": true
   },
   "outputs": [],
   "source": []
  },
  {
   "cell_type": "code",
   "execution_count": null,
   "metadata": {},
   "outputs": [],
   "source": [
    "'Размерность результирующей таблицы'\n",
    "data = pd.concat((data_numerical, data_nonbinary), axis = 1)\n",
    "print(data.shape)"
   ]
  },
  {
   "cell_type": "code",
   "execution_count": null,
   "metadata": {
    "scrolled": true
   },
   "outputs": [],
   "source": [
    "data"
   ]
  },
  {
   "cell_type": "code",
   "execution_count": null,
   "metadata": {
    "collapsed": true
   },
   "outputs": [],
   "source": [
    "X = data.drop((['id','type_P','type_R','type_SO','type_SW','type_T','type_W']), axis = 1) # выбрасываем столбец\n",
    "Y = data[['type_P','type_R','type_SO','type_SW','type_T','type_W']]\n",
    "feature_names = X.columns"
   ]
  },
  {
   "cell_type": "code",
   "execution_count": null,
   "metadata": {},
   "outputs": [],
   "source": [
    "X.columns"
   ]
  },
  {
   "cell_type": "code",
   "execution_count": null,
   "metadata": {},
   "outputs": [],
   "source": [
    "Y.columns"
   ]
  },
  {
   "cell_type": "code",
   "execution_count": null,
   "metadata": {},
   "outputs": [],
   "source": [
    "print(X.shape)\n",
    "print(Y.shape)\n",
    "N, d = X.shape"
   ]
  },
  {
   "cell_type": "code",
   "execution_count": null,
   "metadata": {},
   "outputs": [],
   "source": [
    "type(Y)"
   ]
  },
  {
   "cell_type": "code",
   "execution_count": null,
   "metadata": {},
   "outputs": [],
   "source": [
    "from sklearn.model_selection import train_test_split\n",
    "X_train, X_test, Y_train, Y_test = train_test_split(X, Y, test_size = 0.3, random_state = 42)\n",
    "\n",
    "N_train, _ = X_train.shape \n",
    "N_test,  _ = X_test.shape \n",
    "\n",
    "print(N_train, N_test)"
   ]
  },
  {
   "cell_type": "code",
   "execution_count": null,
   "metadata": {},
   "outputs": [],
   "source": [
    "294+126"
   ]
  },
  {
   "cell_type": "code",
   "execution_count": null,
   "metadata": {
    "scrolled": false
   },
   "outputs": [],
   "source": [
    "'''Метод k ближайших соседей'''\n",
    "from sklearn.neighbors import KNeighborsClassifier\n",
    "\n",
    "knn = KNeighborsClassifier(n_neighbors = 4)\n",
    "knn.fit(X_train,Y_train)"
   ]
  },
  {
   "cell_type": "code",
   "execution_count": null,
   "metadata": {},
   "outputs": [],
   "source": [
    "Y_train_predict = knn.predict(X_train)\n",
    "Y_test_predict = knn.predict(X_test)\n",
    "\n",
    "err_train = np.mean(Y_train != Y_train_predict)\n",
    "err_test  = np.mean(Y_test  != Y_test_predict)\n",
    "\n",
    "#Err_test - ошибка \n",
    "\n",
    "print(err_train, err_test)"
   ]
  },
  {
   "cell_type": "code",
   "execution_count": null,
   "metadata": {},
   "outputs": [],
   "source": [
    "from sklearn.metrics import confusion_matrix\n",
    "\n",
    "print(confusion_matrix(Y_test['type_P'], Y_test_predict[:,0]))"
   ]
  },
  {
   "cell_type": "code",
   "execution_count": null,
   "metadata": {},
   "outputs": [],
   "source": [
    "from sklearn.metrics import confusion_matrix\n",
    "\n",
    "print(confusion_matrix(Y_test['type_R'], Y_test_predict[:,1]))"
   ]
  },
  {
   "cell_type": "code",
   "execution_count": null,
   "metadata": {},
   "outputs": [],
   "source": [
    "from sklearn.metrics import confusion_matrix\n",
    "\n",
    "print(confusion_matrix(Y_test['type_SO'], Y_test_predict[:,2]))"
   ]
  },
  {
   "cell_type": "code",
   "execution_count": null,
   "metadata": {},
   "outputs": [],
   "source": [
    "from sklearn.metrics import confusion_matrix\n",
    "\n",
    "print(confusion_matrix(Y_test['type_SW'], Y_test_predict[:,3]))"
   ]
  },
  {
   "cell_type": "code",
   "execution_count": null,
   "metadata": {},
   "outputs": [],
   "source": [
    "from sklearn.metrics import confusion_matrix\n",
    "\n",
    "print(confusion_matrix(Y_test['type_T'], Y_test_predict[:,4]))"
   ]
  },
  {
   "cell_type": "code",
   "execution_count": null,
   "metadata": {},
   "outputs": [],
   "source": [
    "from sklearn.metrics import confusion_matrix\n",
    "\n",
    "print(confusion_matrix(Y_test['type_W'], Y_test_predict[:,5]))"
   ]
  },
  {
   "cell_type": "code",
   "execution_count": null,
   "metadata": {},
   "outputs": [],
   "source": [
    "#Подбор параметров\n",
    "from sklearn.model_selection import GridSearchCV\n",
    "nnb = [1, 3, 5, 10, 15, 20, 25, 35, 45, 55]\n",
    "knn = KNeighborsClassifier()\n",
    "grid = GridSearchCV(knn, param_grid = {'n_neighbors': nnb}, cv=10)\n",
    "grid.fit(X_train, Y_train)\n",
    "\n",
    "best_cv_err = 1 - grid.best_score_\n",
    "best_n_neighbors = grid.best_estimator_.n_neighbors\n",
    "print(best_cv_err, best_n_neighbors)"
   ]
  },
  {
   "cell_type": "code",
   "execution_count": null,
   "metadata": {},
   "outputs": [],
   "source": [
    "knn = KNeighborsClassifier(n_neighbors = best_n_neighbors).fit(X_train, Y_train)\n",
    "\n",
    "err_train = np.mean(Y_train != knn.predict(X_train))\n",
    "err_test  = np.mean(Y_test  != knn.predict(X_test))\n",
    "\n",
    "print(err_train, err_test)\n",
    "\n",
    "#Очень странно, ошибка нулевая получается. Слишком великолепные данные???"
   ]
  },
  {
   "cell_type": "code",
   "execution_count": null,
   "metadata": {},
   "outputs": [],
   "source": [
    "#Random forest\n",
    "from sklearn import ensemble\n",
    "rf = ensemble.RandomForestClassifier(n_estimators = 1000)\n",
    "rf.fit(X_train, Y_train)\n",
    "\n",
    "err_train = np.mean(Y_train != rf.predict(X_train))\n",
    "err_test  = np.mean(Y_test  != rf.predict(X_test))\n",
    "\n",
    "print(err_train, err_test)"
   ]
  },
  {
   "cell_type": "code",
   "execution_count": null,
   "metadata": {},
   "outputs": [],
   "source": [
    "#Значимость признаков\n",
    "importances = rf.feature_importances_\n",
    "indices = np.argsort(importances)[::-1]\n",
    "\n",
    "print(\"Feature ranking:\")\n",
    "\n",
    "for f in range(d):\n",
    "    print(\"%2d. feature '%5s' (%f)\" % (f + 1, feature_names[indices[f]], importances[indices[f]]))"
   ]
  },
  {
   "cell_type": "code",
   "execution_count": null,
   "metadata": {},
   "outputs": [],
   "source": [
    "feature_names[[1,0,1]]"
   ]
  },
  {
   "cell_type": "code",
   "execution_count": null,
   "metadata": {},
   "outputs": [],
   "source": [
    "d_first = 10\n",
    "plt.title(\"Feature importances\")\n",
    "plt.bar(range(d_first), importances[indices[:d_first]], align = 'center', color = 'r')\n",
    "plt.xticks(range(d_first), feature_names[indices[:d_first]], rotation = 90)\n",
    "plt.xlim([-1, d_first])"
   ]
  },
  {
   "cell_type": "code",
   "execution_count": null,
   "metadata": {},
   "outputs": [],
   "source": [
    "#Extremely Randomized Trees\n",
    "ert = ensemble.ExtraTreesClassifier(n_estimators = 100).fit(X_train, Y_train)\n",
    "\n",
    "err_train = np.mean(Y_train != ert.predict(X_train))\n",
    "err_test  = np.mean(Y_test  != ert.predict(X_test))\n",
    "\n",
    "print(err_train, err_test)"
   ]
  },
  {
   "cell_type": "markdown",
   "metadata": {},
   "source": [
    "<BR><big><strong>Домашняя работа №2</strong></big></BR>"
   ]
  },
  {
   "cell_type": "code",
   "execution_count": null,
   "metadata": {
    "collapsed": true
   },
   "outputs": [],
   "source": [
    "X = data.drop((['id','type_P','type_R','type_SO','type_SW','type_T','type_W']), axis = 1) # выбрасываем столбец\n",
    "Y = data[['type_SW']]"
   ]
  },
  {
   "cell_type": "markdown",
   "metadata": {},
   "source": [
    "<br>Мы построим НС для предсказания Swimming birds (Водоплавающие птицы)</br>"
   ]
  },
  {
   "cell_type": "code",
   "execution_count": null,
   "metadata": {
    "collapsed": true
   },
   "outputs": [],
   "source": [
    "X_train, X_test, Y_train, Y_test = train_test_split(X, Y, test_size = 0.3, random_state = 42)\n",
    "N_test, _ = X_test.shape"
   ]
  },
  {
   "cell_type": "code",
   "execution_count": null,
   "metadata": {
    "collapsed": true
   },
   "outputs": [],
   "source": [
    "from sklearn.neural_network import MLPClassifier"
   ]
  },
  {
   "cell_type": "markdown",
   "metadata": {},
   "source": [
    "<br>Для начала мы проанализируем как параметр регуляризации влияет на ошибку. Для этого мы рассмотрим однослойную и двухслойную НС со скрытыми полями, причём если это двухслойная сеть,в каждом поле одинаковое количество нейронов. <br>"
   ]
  },
  {
   "cell_type": "code",
   "execution_count": null,
   "metadata": {
    "scrolled": true
   },
   "outputs": [],
   "source": [
    "alpha_arr = np.logspace(-3, 2, 20)\n",
    "neuron_arr = [(100),(200),(20,20),(500),(50,50),(100,100)]\n",
    "i = 1\n",
    "min_error = []\n",
    "alpha_opt = []\n",
    "for neuron in neuron_arr:\n",
    "    test_err = []\n",
    "    train_err = []\n",
    "    for alpha in alpha_arr:\n",
    "        mlp_model = MLPClassifier(alpha = alpha, hidden_layer_sizes = neuron, \n",
    "                                  solver = 'lbfgs', activation = 'logistic')\n",
    "        mlp_model.fit(X_train, Y_train)\n",
    "\n",
    "        Y_train_pred = mlp_model.predict(X_train)\n",
    "        Y_test_pred = mlp_model.predict(X_test)\n",
    "        train_err.append(np.mean(Y_train.values.ravel() != Y_train_pred))\n",
    "        test_err.append(np.mean(Y_test.values.ravel() != Y_test_pred))\n",
    "        \n",
    "    erob = u'Error on train = ' + str(round(np.mean(Y_train.values.ravel() != Y_train_pred),5))\n",
    "    ertr = u'  on test = ' + str(round(np.mean(Y_test.values.ravel() != Y_test_pred),5))\n",
    "    \n",
    "\n",
    "    min_error.append(np.min(test_err))\n",
    "    alpha_opt.append(alpha_arr[test_err == np.min(test_err)])\n",
    "    \n",
    "    plt.figure(i)    \n",
    "    plt.semilogx(alpha_arr, train_err, 'b-o', label = 'train')\n",
    "    plt.semilogx(alpha_arr, test_err, 'r-o', label = 'test')\n",
    "    plt.xlim([np.min(alpha_arr), np.max(alpha_arr)])\n",
    "    plt.title('Error vs. alpha' + '     neurons = ' + str(neuron))\n",
    "    plt.xlabel('alpha')\n",
    "    plt.ylabel('error')\n",
    "    plt.suptitle(erob + ertr)\n",
    "    plt.legend()\n",
    "    i = i + 1\n",
    "    pass"
   ]
  },
  {
   "cell_type": "markdown",
   "metadata": {},
   "source": [
    "<BR>Минимальная ошибка</BR>"
   ]
  },
  {
   "cell_type": "code",
   "execution_count": null,
   "metadata": {},
   "outputs": [],
   "source": [
    "print(alpha_opt[np.argmin(min_error)])\n",
    "print(np.min(min_error))"
   ]
  },
  {
   "cell_type": "markdown",
   "metadata": {},
   "source": [
    "<BR>Оптимальное альфа равно 2.6366509 на однослойной НС с 500 нейронами</BR>"
   ]
  },
  {
   "cell_type": "markdown",
   "metadata": {},
   "source": [
    "<br>Теперь исследуем как количество нейронов влияет на ошибку и переобучение</br>"
   ]
  },
  {
   "cell_type": "code",
   "execution_count": null,
   "metadata": {},
   "outputs": [],
   "source": [
    "nr = (100,200,400,500,2500,10000) #Перемножили количество нейронов для наглядности\n",
    "i = 1\n",
    "for alpha in alpha_arr:\n",
    "    test_err = []\n",
    "    train_err = []\n",
    "    for neuron in neuron_arr:\n",
    "        mlp_model = MLPClassifier(alpha = alpha, hidden_layer_sizes = neuron, \n",
    "                                  solver = 'lbfgs', activation = 'logistic')\n",
    "        mlp_model.fit(X_train, Y_train)\n",
    "\n",
    "        Y_train_pred = mlp_model.predict(X_train)\n",
    "        Y_test_pred = mlp_model.predict(X_test)\n",
    "        train_err.append(np.mean(Y_train.values.ravel() != Y_train_pred))\n",
    "        test_err.append(np.mean(Y_test.values.ravel() != Y_test_pred))\n",
    "    \n",
    "    erob = u'Error on train = ' + str(round(np.mean(Y_train.values.ravel() != Y_train_pred),5))\n",
    "    ertr = u'  on test = ' + str(round(np.mean(Y_test.values.ravel() != Y_test_pred),5))\n",
    "    \n",
    "    plt.figure(i)  \n",
    "    plt.semilogx(nr, train_err, 'b-o', label = 'train')\n",
    "    plt.semilogx(nr, test_err, 'r-o', label = 'test')\n",
    "    plt.xlim([np.min(nr), np.max(nr)])\n",
    "    plt.title('Error vs. neurons' + '      alpha = ' + str(alpha))\n",
    "    plt.xlabel('neurons')\n",
    "    plt.ylabel('error')\n",
    "    plt.suptitle(erob + ertr)\n",
    "    plt.legend()\n",
    "    i=i+1\n",
    "    pass"
   ]
  },
  {
   "cell_type": "markdown",
   "metadata": {},
   "source": [
    "<BR>Можно заметить, что  </BR>"
   ]
  },
  {
   "cell_type": "markdown",
   "metadata": {},
   "source": [
    "<BR><strong>Оптимальные параметры alpha = 2.6366509, field = 1, neurons = 500</strong></BR>"
   ]
  },
  {
   "cell_type": "markdown",
   "metadata": {},
   "source": [
    "<BR><big><strong>Домашняя работа №3</strong></big></BR>"
   ]
  },
  {
   "cell_type": "markdown",
   "metadata": {},
   "source": [
    "<BR><strong>Random Forest</strong></BR>"
   ]
  },
  {
   "cell_type": "markdown",
   "metadata": {},
   "source": [
    "<BR>Обучение на Random Forest мы проведём с количеством деревьём равным 40 </BR>"
   ]
  },
  {
   "cell_type": "code",
   "execution_count": 358,
   "metadata": {
    "collapsed": true
   },
   "outputs": [],
   "source": [
    "X = data.drop((['id','type_P','type_R','type_SO','type_SW','type_T','type_W']), axis = 1) # выбрасываем столбец\n",
    "Y = data[['type_SW']]\n",
    "X_train, X_test, Y_train, Y_test = train_test_split(X, Y, test_size = 0.3333)"
   ]
  },
  {
   "cell_type": "code",
   "execution_count": 360,
   "metadata": {},
   "outputs": [
    {
     "name": "stdout",
     "output_type": "stream",
     "text": [
      "0.0 0.121428571429\n"
     ]
    }
   ],
   "source": [
    "from sklearn import ensemble\n",
    "rf = ensemble.RandomForestClassifier(n_estimators = 40)\n",
    "rf.fit(X_train, Y_train)\n",
    "\n",
    "err_train = np.mean(Y_train.values.ravel() != rf.predict(X_train))\n",
    "err_test  = np.mean(Y_test.values.ravel()  != rf.predict(X_test))\n",
    "\n",
    "print(err_train, err_test)"
   ]
  },
  {
   "cell_type": "markdown",
   "metadata": {},
   "source": [
    "<BR>Мы получили ошибку на тренировочной выборке нулевую, а для тестовой она оказалась 15%, что является не очень хорошим показателем</BR>"
   ]
  },
  {
   "cell_type": "markdown",
   "metadata": {},
   "source": [
    "<BR>Построим график зависимости ошибки на обучающей и тестовой выборке от количества используемых деревьев, а также ошибки out-of-bag(oob)</BR>"
   ]
  },
  {
   "cell_type": "code",
   "execution_count": 361,
   "metadata": {},
   "outputs": [
    {
     "data": {
      "image/png": "[encoded data removed]",
      "text/plain": [
       "<matplotlib.figure.Figure at 0x25c68d4bbe0>"
      ]
     },
     "metadata": {},
     "output_type": "display_data"
    },
    {
     "data": {
      "image/png": "[encoded data removed]",
      "text/plain": [
       "<matplotlib.figure.Figure at 0x25c67f7d518>"
      ]
     },
     "metadata": {},
     "output_type": "display_data"
    }
   ],
   "source": [
    "tree_arr = []\n",
    "for i in range(1,1000,5):\n",
    "    tree_arr.append(i)\n",
    "test_err = []\n",
    "train_err = []\n",
    "oob_scores = []\n",
    "for tree in tree_arr:\n",
    "    rf = ensemble.RandomForestClassifier(n_estimators = tree,oob_score=True,bootstrap=True,max_features = 6)\n",
    "    rf.fit(X_train, Y_train)\n",
    "\n",
    "    Y_train_pred = rf.predict(X_train)\n",
    "    Y_test_pred = rf.predict(X_test)\n",
    "    train_err.append(np.mean(Y_train.values.ravel() != Y_train_pred))\n",
    "    test_err.append(np.mean(Y_test.values.ravel() != Y_test_pred))\n",
    "    oob_scores.append(rf.oob_score_) #Оценка качества модели\n",
    "    \n",
    "plt.figure(1)\n",
    "plt.semilogx(tree_arr, test_err, 'b-o', label = 'test')\n",
    "plt.semilogx(tree_arr, train_err, 'r-o', label = 'train')\n",
    "plt.xlim([np.min(tree_arr), np.max(tree_arr)])\n",
    "plt.title('Error vs. Count of tree')\n",
    "plt.xlabel('count of tree')\n",
    "plt.ylabel('error')\n",
    "plt.legend()\n",
    "\n",
    "plt.figure(2)\n",
    "plt.semilogx(tree_arr, oob_scores, 'b-o', label = 'oob')\n",
    "plt.xlim([np.min(tree_arr), np.max(tree_arr)])\n",
    "plt.title('oob error vs. Count of tree')\n",
    "plt.xlabel('count of tree')\n",
    "plt.ylabel('oob error')\n",
    "plt.legend()\n",
    "pass\n"
   ]
  },
  {
   "cell_type": "markdown",
   "metadata": {},
   "source": [
    "<BR>Можно наблюдать, что мы имеем устойчивую ошибку около 0.1, т.е. вокруг неё все колеблется. Происходит постоянное переобучение. Прежде всего это связанно с недостаточностью данных для подкрепления тестовой выборки?. Минимальная ошибка в данном случае будет равняться 0.0857 c количеством деревьев 4</BR>"
   ]
  },
  {
   "cell_type": "code",
   "execution_count": 363,
   "metadata": {},
   "outputs": [
    {
     "name": "stdout",
     "output_type": "stream",
     "text": [
      "Количество деревьев 4\n",
      " Среднее значение ошибки 0.102857142857\n",
      " Минимальное значение ошибки 0.0857142857143\n"
     ]
    }
   ],
   "source": [
    "print('Количество деревьев ' + str(test_err.index(np.min(test_err)) + 1) + '\\n',\n",
    "      'Среднее значение ошибки ' + str(np.mean(test_err)) + '\\n',\n",
    "      'Минимальное значение ошибки ' + str(np.min(test_err)))"
   ]
  },
  {
   "cell_type": "markdown",
   "metadata": {},
   "source": [
    "<BR><strong>Extremely Randomized Trees</strong></BR>"
   ]
  },
  {
   "cell_type": "code",
   "execution_count": 364,
   "metadata": {},
   "outputs": [
    {
     "data": {
      "image/png": "[encoded data removed]",
      "text/plain": [
       "<matplotlib.figure.Figure at 0x25c65123c18>"
      ]
     },
     "metadata": {},
     "output_type": "display_data"
    },
    {
     "data": {
      "image/png": "[encoded data removed]",
      "text/plain": [
       "<matplotlib.figure.Figure at 0x25c697edc50>"
      ]
     },
     "metadata": {},
     "output_type": "display_data"
    }
   ],
   "source": [
    "tree_arr = []\n",
    "oob_scores = []\n",
    "for i in range(1,1000,5):\n",
    "    tree_arr.append(i)\n",
    "test_err = []\n",
    "train_err = []\n",
    "for tree in tree_arr:\n",
    "    rf = ensemble.ExtraTreesClassifier(n_estimators = tree,oob_score=True,bootstrap=True,max_features = 6)\n",
    "    rf.fit(X_train, Y_train)\n",
    "\n",
    "    Y_train_pred = rf.predict(X_train)\n",
    "    Y_test_pred = rf.predict(X_test)\n",
    "    train_err.append(np.mean(Y_train.values.ravel() != Y_train_pred))\n",
    "    test_err.append(np.mean(Y_test.values.ravel() != Y_test_pred))\n",
    "    oob_scores.append(rf.oob_score_) #Оценка качества модели\n",
    "    \n",
    "plt.figure(1)\n",
    "plt.semilogx(tree_arr, test_err, 'b-o', label = 'test')\n",
    "plt.semilogx(tree_arr, train_err, 'r-o', label = 'train')\n",
    "plt.xlim([np.min(tree_arr), np.max(tree_arr)])\n",
    "plt.title('Error vs. Count of tree')\n",
    "plt.xlabel('count of tree')\n",
    "plt.ylabel('error')\n",
    "plt.legend()\n",
    "\n",
    "plt.figure(2)\n",
    "plt.semilogx(tree_arr, oob_scores, 'b-o', label = 'oob')\n",
    "plt.xlim([np.min(tree_arr), np.max(tree_arr)])\n",
    "plt.title('oob error vs. Count of tree')\n",
    "plt.xlabel('count of tree')\n",
    "plt.ylabel('oob error')\n",
    "plt.legend()\n",
    "pass"
   ]
  },
  {
   "cell_type": "code",
   "execution_count": 365,
   "metadata": {},
   "outputs": [
    {
     "name": "stdout",
     "output_type": "stream",
     "text": [
      "Количество деревьев 9\n",
      " Среднее значение ошибки 0.0769285714286\n",
      " Минимальное значение ошибки 0.0642857142857\n"
     ]
    }
   ],
   "source": [
    "print('Количество деревьев ' + str(test_err.index(np.min(test_err)) + 1) + '\\n',\n",
    "      'Среднее значение ошибки ' + str(np.mean(test_err)) + '\\n',\n",
    "      'Минимальное значение ошибки ' + str(np.min(test_err)))"
   ]
  },
  {
   "cell_type": "markdown",
   "metadata": {},
   "source": [
    "<BR><strong>AdaBoost</strong></BR>"
   ]
  },
  {
   "cell_type": "code",
   "execution_count": 372,
   "metadata": {},
   "outputs": [
    {
     "data": {
      "image/png": "[encoded data removed]",
      "text/plain": [
       "<matplotlib.figure.Figure at 0x25c6c29a588>"
      ]
     },
     "metadata": {},
     "output_type": "display_data"
    }
   ],
   "source": [
    "tree_arr = []\n",
    "oob_scores = []\n",
    "for i in range(1,5000,5):\n",
    "    tree_arr.append(i)\n",
    "test_err = []\n",
    "train_err = []\n",
    "for tree in tree_arr:\n",
    "    rf = ensemble.AdaBoostClassifier(n_estimators = tree)\n",
    "    rf.fit(X_train, Y_train)\n",
    "\n",
    "    Y_train_pred = rf.predict(X_train)\n",
    "    Y_test_pred = rf.predict(X_test)\n",
    "    train_err.append(np.mean(Y_train.values.ravel() != Y_train_pred))\n",
    "    test_err.append(np.mean(Y_test.values.ravel() != Y_test_pred))   \n",
    "\n",
    "plt.semilogx(tree_arr, test_err, 'b-o', label = 'test')\n",
    "plt.semilogx(tree_arr, train_err, 'r-o', label = 'train')\n",
    "plt.xlim([np.min(tree_arr), np.max(tree_arr)])\n",
    "plt.title('Error vs. Count of tree')\n",
    "plt.xlabel('count of tree')\n",
    "plt.ylabel('error')\n",
    "plt.legend()\n",
    "pass"
   ]
  },
  {
   "cell_type": "code",
   "execution_count": 373,
   "metadata": {},
   "outputs": [
    {
     "name": "stdout",
     "output_type": "stream",
     "text": [
      "Количество деревьев 290\n",
      " Среднее значение ошибки 0.0893214285714\n",
      " Минимальное значение ошибки 0.0642857142857\n"
     ]
    }
   ],
   "source": [
    "print('Количество деревьев ' + str(test_err.index(np.min(test_err)) + 1) + '\\n',\n",
    "      'Среднее значение ошибки ' + str(np.mean(test_err)) + '\\n',\n",
    "      'Минимальное значение ошибки ' + str(np.min(test_err)))"
   ]
  },
  {
   "cell_type": "markdown",
   "metadata": {},
   "source": [
    "<BR><strong>Gradient boosted trees</strong></BR>"
   ]
  },
  {
   "cell_type": "code",
   "execution_count": 368,
   "metadata": {},
   "outputs": [
    {
     "data": {
      "image/png": "[encoded data removed]",
      "text/plain": [
       "<matplotlib.figure.Figure at 0x25c69809be0>"
      ]
     },
     "metadata": {},
     "output_type": "display_data"
    }
   ],
   "source": [
    "tree_arr = []\n",
    "oob_scores = []\n",
    "for i in range(1,1000,5):\n",
    "    tree_arr.append(i)\n",
    "test_err = []\n",
    "train_err = []\n",
    "for tree in tree_arr:\n",
    "    rf = ensemble.GradientBoostingClassifier(n_estimators = tree)\n",
    "    rf.fit(X_train, Y_train)\n",
    "\n",
    "    Y_train_pred = rf.predict(X_train)\n",
    "    Y_test_pred = rf.predict(X_test)\n",
    "    train_err.append(np.mean(Y_train.values.ravel() != Y_train_pred))\n",
    "    test_err.append(np.mean(Y_test.values.ravel() != Y_test_pred))\n",
    "    #oob_scores.append(rf.oob_score_) #Оценка качества модели\n",
    "    \n",
    "plt.figure(1)\n",
    "plt.semilogx(tree_arr, test_err, 'b-o', label = 'test')\n",
    "plt.semilogx(tree_arr, train_err, 'r-o', label = 'train')\n",
    "plt.xlim([np.min(tree_arr), np.max(tree_arr)])\n",
    "plt.title('Error vs. Count of tree')\n",
    "plt.xlabel('count of tree')\n",
    "plt.ylabel('error')\n",
    "plt.legend()\n",
    "pass\n"
   ]
  },
  {
   "cell_type": "code",
   "execution_count": 369,
   "metadata": {},
   "outputs": [
    {
     "name": "stdout",
     "output_type": "stream",
     "text": [
      "Количество деревьев 90\n",
      " Среднее значение ошибки 0.110285714286\n",
      " Минимальное значение ошибки 0.0928571428571\n"
     ]
    }
   ],
   "source": [
    "print('Количество деревьев ' + str(test_err.index(np.min(test_err)) + 1) + '\\n',\n",
    "      'Среднее значение ошибки ' + str(np.mean(test_err)) + '\\n',\n",
    "      'Минимальное значение ошибки ' + str(np.min(test_err)))"
   ]
  },
  {
   "cell_type": "markdown",
   "metadata": {},
   "source": [
    "<BR>Многие методы показывают, что обладает переобучение в следствии чего ошибка постоянно колеблется. Как я и говорил, это может быть связанно с недостатком данных, а также их корреляцией. Наименьшую ошибку можно наблюдать на AdaBoost, она равняется 0.065 при 240 деревьях. В градиентном методе можно наблюдать удивительный факт, при увеличении числа деревьев, ошибка падает, но возрастает амплитуда колебания</BR>\n"
   ]
  },
  {
   "cell_type": "code",
   "execution_count": null,
   "metadata": {
    "collapsed": true
   },
   "outputs": [],
   "source": []
  }
 ],
 "metadata": {
  "kernelspec": {
   "display_name": "Python 3",
   "language": "python",
   "name": "python3"
  },
  "language_info": {
   "codemirror_mode": {
    "name": "ipython",
    "version": 3
   },
   "file_extension": ".py",
   "mimetype": "text/x-python",
   "name": "python",
   "nbconvert_exporter": "python",
   "pygments_lexer": "ipython3",
   "version": "3.6.3"
  }
 },
 "nbformat": 4,
 "nbformat_minor": 1
}
